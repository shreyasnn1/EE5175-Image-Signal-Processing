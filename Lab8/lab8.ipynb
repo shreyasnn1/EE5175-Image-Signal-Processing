{
 "cells": [
  {
   "cell_type": "code",
   "execution_count": 2,
   "metadata": {},
   "outputs": [],
   "source": [
    "import cv2\n",
    "import numpy as np\n",
    "import matplotlib.pyplot as plt\n",
    "from math import ceil,sqrt\n",
    "from tqdm import tqdm\n",
    "import scipy.io\n",
    "np.set_printoptions(precision=3)"
   ]
  },
  {
   "cell_type": "markdown",
   "metadata": {},
   "source": [
    "# Q1"
   ]
  },
  {
   "cell_type": "code",
   "execution_count": 2,
   "metadata": {},
   "outputs": [],
   "source": [
    "# Construct the covariance matrix for a Markov-1 process\n",
    "def get_markov1_cov(rho=0.91, sz = 8):\n",
    "    R1 = np.zeros((sz,sz))\n",
    "    for i in range(sz):\n",
    "        for j in range(sz):\n",
    "            R1[i,j] = rho**(abs(i-j))\n",
    "    return R1\n",
    "\n",
    "# FUnction to obtain the Walsh Haddamard transformation matrix given \"n\". \n",
    "# Here the output will be a square transformation matrix of size 2^n\n",
    "def get_WH(n = 3):\n",
    "    H1 = np.array([[1,1],[1,-1]])/np.sqrt(2)\n",
    "    U_wh = H1\n",
    "    for _ in range(n-1):\n",
    "        U_wh = np.kron(U_wh,H1)\n",
    "    return U_wh\n",
    "\n",
    "# Function to compute the DCT matrix given its size. Output will be of shape NxN\n",
    "def get_DCT_mat(N = 8):\n",
    "    U = np.zeros((8,8))\n",
    "    for i in range(N):\n",
    "        for j in range(N):\n",
    "            if i==0: U[i,j] = 1/sqrt(N)\n",
    "            else: U[i,j] = sqrt(2/N)*(np.cos((np.pi*(2*j+1)*i)/(2*N)))\n",
    "    \n",
    "    return U\n",
    "\n",
    "# Function to compute the Energy Packing Efficiency(EPE) of a matrix and parameter m\n",
    "def EPE(M, m):\n",
    "    return np.trace(M[:m,:m])/np.trace(M)\n",
    "\n",
    "# Function to compute Decorrelation Efficiency given R' and R\n",
    "def decor_eff(Rp, R):\n",
    "    f = lambda x: np.sum(np.abs(x)) - np.trace(np.abs(x))\n",
    "    return 1 - (f(Rp)/f(R))\n",
    "\n",
    "# Using the data rho = 0.91 given,\n",
    "rho=0.91\n",
    "# compute the covariance matrix for the Markov-I process\n",
    "R = get_markov1_cov(rho = rho)"
   ]
  },
  {
   "cell_type": "markdown",
   "metadata": {},
   "source": [
    "### Walsh Haddamard Transform"
   ]
  },
  {
   "cell_type": "code",
   "execution_count": 3,
   "metadata": {},
   "outputs": [
    {
     "name": "stdout",
     "output_type": "stream",
     "text": [
      "Energy Packing Efficiencies: [0.793 0.803 0.831 0.843 0.942 0.954 0.988 1.   ]\n",
      "Decorrelation Efficiency: 0.948567\n"
     ]
    }
   ],
   "source": [
    "U_wh = get_WH()\n",
    "Rp1 = U_wh @ R @ (U_wh.T)\n",
    "epe1 = np.around([EPE(Rp1, i) for i in range(1,9)], 4)\n",
    "dce1 = decor_eff(Rp=Rp1, R=R)\n",
    "print(f\"Energy Packing Efficiencies: {epe1}\")\n",
    "print(\"Decorrelation Efficiency: %f\"%(dce1))"
   ]
  },
  {
   "cell_type": "markdown",
   "metadata": {},
   "source": [
    "### Discrete Cosine Transform"
   ]
  },
  {
   "cell_type": "code",
   "execution_count": 4,
   "metadata": {},
   "outputs": [
    {
     "name": "stdout",
     "output_type": "stream",
     "text": [
      "Energy Packing Efficiencies: [0.793 0.909 0.948 0.967 0.979 0.987 0.994 1.   ]\n",
      "Decorrelation Efficiency: 0.980471\n"
     ]
    }
   ],
   "source": [
    "U_dct = get_DCT_mat()\n",
    "Rp2 = U_dct @ R @ (U_dct.T)\n",
    "epe2 = np.around([EPE(Rp2, i) for i in range(1,9)], 4)\n",
    "dce2 = decor_eff(Rp=Rp2, R=R)\n",
    "print(f\"Energy Packing Efficiencies: {epe2}\")\n",
    "print(\"Decorrelation Efficiency: %f\"%(dce2))"
   ]
  },
  {
   "cell_type": "markdown",
   "metadata": {},
   "source": [
    "Comparing energy packing efficiencies and decorrelation efficiencies for DCT and WHT, we can clearly see that the efficiencies for DCT are higher than the corresponding values for WHT."
   ]
  },
  {
   "cell_type": "code",
   "execution_count": 5,
   "metadata": {},
   "outputs": [
    {
     "data": {
      "text/plain": [
       "array([[-0.327, -0.473,  0.469,  0.428,  0.366,  0.288,  0.198, -0.101],\n",
       "       [-0.349, -0.424,  0.218, -0.076, -0.341, -0.486, -0.463,  0.279],\n",
       "       [-0.365, -0.292, -0.169, -0.483, -0.358,  0.091,  0.459, -0.415],\n",
       "       [-0.372, -0.104, -0.451, -0.279,  0.349,  0.415, -0.19 ,  0.489],\n",
       "       [-0.372,  0.104, -0.451,  0.279,  0.349, -0.415, -0.19 , -0.489],\n",
       "       [-0.365,  0.292, -0.169,  0.483, -0.358, -0.091,  0.459,  0.415],\n",
       "       [-0.349,  0.424,  0.218,  0.076, -0.341,  0.486, -0.463, -0.279],\n",
       "       [-0.327,  0.473,  0.469, -0.428,  0.366, -0.288,  0.198,  0.101]])"
      ]
     },
     "execution_count": 5,
     "metadata": {},
     "output_type": "execute_result"
    }
   ],
   "source": [
    "# Eigenvalue decomposition for R\n",
    "w,v = np.linalg.eig(R)\n",
    "v"
   ]
  },
  {
   "cell_type": "code",
   "execution_count": 6,
   "metadata": {},
   "outputs": [
    {
     "name": "stdout",
     "output_type": "stream",
     "text": [
      "[[ 0.354  0.49   0.462  0.416  0.354  0.278  0.191  0.098]\n",
      " [ 0.354  0.416  0.191 -0.098 -0.354 -0.49  -0.462 -0.278]\n",
      " [ 0.354  0.278 -0.191 -0.49  -0.354  0.098  0.462  0.416]\n",
      " [ 0.354  0.098 -0.462 -0.278  0.354  0.416 -0.191 -0.49 ]\n",
      " [ 0.354 -0.098 -0.462  0.278  0.354 -0.416 -0.191  0.49 ]\n",
      " [ 0.354 -0.278 -0.191  0.49  -0.354 -0.098  0.462 -0.416]\n",
      " [ 0.354 -0.416  0.191  0.098 -0.354  0.49  -0.462  0.278]\n",
      " [ 0.354 -0.49   0.462 -0.416  0.354 -0.278  0.191 -0.098]]\n"
     ]
    }
   ],
   "source": [
    "# Computing DCT basis\n",
    "print(np.around(U_dct.T,4))"
   ]
  },
  {
   "cell_type": "markdown",
   "metadata": {},
   "source": [
    "We can see that the eigenvectors and DCT basis  are almost equal. This might be because of the high decorrelation efficiency observed for DCT. However, the values are not exactly the same because the efficiency is very close to, but still less than 1."
   ]
  },
  {
   "cell_type": "markdown",
   "metadata": {},
   "source": [
    "# Q2"
   ]
  },
  {
   "cell_type": "code",
   "execution_count": 7,
   "metadata": {},
   "outputs": [
    {
     "name": "stdout",
     "output_type": "stream",
     "text": [
      "[[ 0.502 -0.498  0.     0.     0.     0.     0.     0.   ]\n",
      " [-0.498  1.    -0.498  0.     0.     0.     0.     0.   ]\n",
      " [ 0.    -0.498  1.    -0.498  0.     0.     0.     0.   ]\n",
      " [ 0.     0.    -0.498  1.    -0.498  0.     0.     0.   ]\n",
      " [ 0.     0.     0.    -0.498  1.    -0.498  0.     0.   ]\n",
      " [ 0.     0.     0.     0.    -0.498  1.    -0.498  0.   ]\n",
      " [ 0.     0.     0.     0.     0.    -0.498  1.    -0.498]\n",
      " [ 0.     0.     0.     0.     0.     0.    -0.498  0.502]]\n"
     ]
    }
   ],
   "source": [
    "# Construct the tridiagonal matrix of the form given with rho as a parameter.\n",
    "# alpha is calculated from rho\n",
    "def get_tridiag_mat(rho, sz = 8):\n",
    "    # Compute alpha\n",
    "    alpha = (rho)/(1+rho**2)\n",
    "\n",
    "    Q = np.identity(sz)\n",
    "    Q[0,0]-=alpha\n",
    "    Q[-1,-1]-=alpha\n",
    "    for i in range(sz-1):\n",
    "        Q[i,i+1] = -alpha\n",
    "        Q[i+1,i]= -alpha\n",
    "    return Q\n",
    "\n",
    "# Compute and show the tridiagonal matrix with the given value of rho\n",
    "rho = 0.91\n",
    "Q = get_tridiag_mat(rho = rho)\n",
    "print(np.around(Q,4))"
   ]
  },
  {
   "cell_type": "markdown",
   "metadata": {},
   "source": [
    "Compute $M1 = \\beta^2 R^{-1}$ where $\\beta = \\frac{1-\\rho^2}{1+\\rho^2}$"
   ]
  },
  {
   "cell_type": "code",
   "execution_count": 8,
   "metadata": {},
   "outputs": [
    {
     "name": "stdout",
     "output_type": "stream",
     "text": [
      "[[ 0.547 -0.498 -0.    -0.    -0.    -0.     0.    -0.   ]\n",
      " [-0.498  1.    -0.498 -0.    -0.     0.    -0.     0.   ]\n",
      " [-0.    -0.498  1.    -0.498  0.    -0.     0.    -0.   ]\n",
      " [-0.    -0.    -0.498  1.    -0.498  0.    -0.     0.   ]\n",
      " [-0.    -0.     0.    -0.498  1.    -0.498  0.    -0.   ]\n",
      " [-0.     0.    -0.     0.    -0.498  1.    -0.498  0.   ]\n",
      " [ 0.    -0.     0.     0.    -0.    -0.498  1.    -0.498]\n",
      " [-0.     0.     0.    -0.     0.    -0.    -0.498  0.547]]\n"
     ]
    }
   ],
   "source": [
    "# Compute beta from rho\n",
    "beta = np.sqrt((1-rho**2)/(1+rho**2))\n",
    "M1 = (beta**2)*np.linalg.inv(R)\n",
    "print(np.around(M1, 4))"
   ]
  },
  {
   "cell_type": "markdown",
   "metadata": {},
   "source": [
    "We can clearly see that $\\beta^2 R^{-1}$ is almost equal to the matrix obtained for Q with $\\rho = 0.91$. \n",
    "Also, $\\alpha = \\frac{\\rho}{1+\\rho^2} = 0.498$\n",
    "\n",
    "Diagonalising $M1(=\\beta^2 R^{-1})$ and $Q$ matrices with DCT:-\n"
   ]
  },
  {
   "cell_type": "code",
   "execution_count": 9,
   "metadata": {},
   "outputs": [
    {
     "name": "stdout",
     "output_type": "stream",
     "text": [
      "Diagonalisation of M1 with DCT matrix: \n",
      " [[ 0.016 -0.     0.015  0.     0.011  0.     0.006  0.   ]\n",
      " [-0.     0.102 -0.     0.018  0.     0.012  0.     0.004]\n",
      " [ 0.015 -0.     0.315  0.     0.015  0.     0.008  0.   ]\n",
      " [-0.     0.018  0.     0.634  0.     0.01   0.     0.004]\n",
      " [ 0.011  0.     0.015  0.     1.011  0.     0.006  0.   ]\n",
      " [ 0.     0.012 -0.     0.01   0.     1.388  0.     0.002]\n",
      " [ 0.006  0.     0.008  0.     0.006 -0.     1.707  0.   ]\n",
      " [-0.     0.004  0.     0.004 -0.     0.002 -0.     1.921]]\n",
      "\n",
      "Diagonalisation of Q with DCT matrix: \n",
      " [[ 0.004  0.    -0.     0.     0.    -0.    -0.     0.   ]\n",
      " [-0.     0.08  -0.     0.    -0.    -0.     0.    -0.   ]\n",
      " [-0.    -0.     0.296  0.    -0.     0.    -0.     0.   ]\n",
      " [-0.     0.     0.     0.619  0.    -0.     0.    -0.   ]\n",
      " [ 0.    -0.    -0.     0.     1.     0.    -0.    -0.   ]\n",
      " [-0.    -0.     0.    -0.     0.     1.381  0.     0.   ]\n",
      " [-0.     0.    -0.     0.    -0.     0.     1.704 -0.   ]\n",
      " [ 0.    -0.     0.    -0.    -0.     0.    -0.     1.92 ]]\n"
     ]
    }
   ],
   "source": [
    "U_dct = get_DCT_mat()\n",
    "R_p1 = U_dct @ M1 @ U_dct.T # Diagonalise M1\n",
    "R_p2 = U_dct @ Q @ U_dct.T # Diagonalise Q\n",
    "print(\"Diagonalisation of M1 with DCT matrix: \\n\",np.around(R_p1,4))\n",
    "print(\"\\nDiagonalisation of Q with DCT matrix: \\n\",np.around(R_p2,4))"
   ]
  },
  {
   "cell_type": "markdown",
   "metadata": {},
   "source": [
    "We can see that the diagonalisation of $M1(=\\beta^2 R^{-1})$ with DCT matrix gives an approximately diagonal matrix. Q, on the other hand is perfectly diagonal. It is also seen that the eigen values obtained along the diagonal for both the matrices(Q and M1) are approximately equal."
   ]
  },
  {
   "cell_type": "markdown",
   "metadata": {},
   "source": [
    "# Q3"
   ]
  },
  {
   "cell_type": "code",
   "execution_count": 3,
   "metadata": {},
   "outputs": [],
   "source": [
    "# Compute SVD of the given square (image) matrix \"g\"\n",
    "def SVD(g):\n",
    "    # Eigenvalue decomposition of g.g^T\n",
    "    w1, v1 = np.linalg.eig(g @ (g.T))\n",
    "    # Sort the eigenvalues and eigenvectors in decreasing order of eigenvalues\n",
    "    idx1   = np.argsort(w1)[::-1]\n",
    "    w1 = w1[idx1]\n",
    "    v1 = v1[:,idx1]\n",
    "\n",
    "    # Eigenvalue decomposition of g^T.g\n",
    "    w2,v2 = np.linalg.eig((g.T) @ g)\n",
    "    # Sort the eigenvalues and eigenvectors in decreasing order of eigenvalues\n",
    "    idx2   = np.argsort(w2)[::-1]\n",
    "    w2 = w2[idx2]\n",
    "    v2 = v2[:,idx2]\n",
    "\n",
    "    # Initialise sigma - the singular matrix\n",
    "    sigma_diag = np.zeros((len(g),len(g)))\n",
    "    \n",
    "    for i in range(len(g)):\n",
    "        # Singular values are equal to the sq. root of the \n",
    "        # eigenvalues of g.g^T or g^T.g\n",
    "        sigma_diag[i,i] = np.sqrt(w1[i])\n",
    "\n",
    "        # Checking whether each eigen vector has to be scaled by -1 since we are \n",
    "        # taking square root to find singular values\n",
    "        if(np.sum((g@v2[:,i] - sigma_diag[i,i]*v1[:,i])**2) > np.sum((g@v2[:,i] + sigma_diag[i,i]*v1[:,i])**2)):\n",
    "            v2[:,i] *= -1\n",
    "\n",
    "    # Return the SVD of matrix g, where g = v1 * sigma_diag * v2^T\n",
    "    return v1, sigma_diag, v2\n"
   ]
  },
  {
   "cell_type": "code",
   "execution_count": 4,
   "metadata": {},
   "outputs": [
    {
     "name": "stdout",
     "output_type": "stream",
     "text": [
      "U = \n",
      "[[ 0.408  0.045 -0.42  -0.472 -0.318 -0.179  0.069  0.543]\n",
      " [ 0.411 -0.092 -0.468  0.159  0.645 -0.084  0.329 -0.217]\n",
      " [ 0.271 -0.519  0.425 -0.351  0.325 -0.282 -0.41   0.013]\n",
      " [ 0.448  0.165  0.101  0.713 -0.125 -0.216 -0.36   0.249]\n",
      " [ 0.403  0.319 -0.115 -0.249 -0.113  0.442 -0.451 -0.498]\n",
      " [ 0.149  0.146  0.149 -0.078 -0.358 -0.655  0.285 -0.538]\n",
      " [ 0.36   0.342  0.615 -0.112  0.152  0.272  0.477  0.199]\n",
      " [ 0.277 -0.673  0.024  0.2   -0.445  0.369  0.278 -0.135]]\n",
      "S = \n",
      "[[1169.348    0.       0.       0.       0.       0.       0.       0.   ]\n",
      " [   0.     287.695    0.       0.       0.       0.       0.       0.   ]\n",
      " [   0.       0.     257.499    0.       0.       0.       0.       0.   ]\n",
      " [   0.       0.       0.     214.284    0.       0.       0.       0.   ]\n",
      " [   0.       0.       0.       0.     163.175    0.       0.       0.   ]\n",
      " [   0.       0.       0.       0.       0.     132.729    0.       0.   ]\n",
      " [   0.       0.       0.       0.       0.       0.      45.266    0.   ]\n",
      " [   0.       0.       0.       0.       0.       0.       0.      32.156]]\n",
      "V = \n",
      "[[ 3.626e-01 -1.730e-02 -4.880e-01  3.307e-01 -8.570e-02  7.940e-02\n",
      "   2.400e-03  7.121e-01]\n",
      " [ 4.465e-01  5.186e-01 -2.303e-01 -4.000e-04  4.020e-02 -2.482e-01\n",
      "   5.465e-01 -3.417e-01]\n",
      " [ 4.410e-01 -3.941e-01  2.986e-01  3.301e-01  3.451e-01  4.970e-01\n",
      "   2.167e-01 -1.974e-01]\n",
      " [ 3.306e-01  8.280e-02  9.820e-02 -5.110e-01  6.613e-01 -1.848e-01\n",
      "  -2.905e-01  2.394e-01]\n",
      " [ 2.615e-01  5.890e-01  5.329e-01  1.559e-01 -2.992e-01  2.192e-01\n",
      "  -3.545e-01  1.148e-01]\n",
      " [ 3.009e-01 -3.847e-01  3.788e-01  1.744e-01 -2.454e-01 -7.230e-01\n",
      "   1.060e-02  6.700e-02]\n",
      " [ 3.148e-01 -1.170e-01 -4.271e-01  1.004e-01 -1.093e-01 -2.600e-02\n",
      "  -6.492e-01 -5.105e-01]\n",
      " [ 3.277e-01 -2.449e-01 -9.900e-03 -6.751e-01 -5.225e-01  2.819e-01\n",
      "   1.509e-01  3.920e-02]]\n"
     ]
    }
   ],
   "source": [
    "# Load the image file using scipy\n",
    "content_dict = scipy.io.loadmat('imageFile.mat')\n",
    "g_mat = np.array(content_dict['g'], np.float64)\n",
    "\n",
    "# Compute SVD of the image(g_mat)\n",
    "U,S,V = SVD(g_mat)\n",
    "print(f\"U = \\n{np.around(U,4)}\")\n",
    "print(f\"S = \\n{np.around(S,4)}\")\n",
    "print(f\"V = \\n{np.around(V,4)}\")\n"
   ]
  },
  {
   "cell_type": "code",
   "execution_count": 12,
   "metadata": {},
   "outputs": [
    {
     "name": "stdout",
     "output_type": "stream",
     "text": [
      "g - U.S.V^T = \n",
      "[[-0.  0.  0. -0. -0. -0. -0. -0.]\n",
      " [ 0. -0. -0.  0.  0. -0. -0. -0.]\n",
      " [-0.  0.  0. -0. -0.  0.  0.  0.]\n",
      " [-0.  0. -0. -0. -0. -0. -0. -0.]\n",
      " [-0. -0. -0.  0.  0. -0.  0. -0.]\n",
      " [ 0. -0. -0.  0.  0.  0.  0. -0.]\n",
      " [ 0. -0.  0.  0. -0.  0. -0. -0.]\n",
      " [ 0. -0. -0.  0.  0. -0.  0. -0.]]\n"
     ]
    }
   ],
   "source": [
    "# Verify correctness of SVD: g == U.S.V^T\n",
    "print(f\"g - U.S.V^T = \\n{np.around(g_mat - U@S@V.T,4)}\")"
   ]
  },
  {
   "cell_type": "markdown",
   "metadata": {},
   "source": [
    "It is seen that the singular value decomposition of the matrix g is indeed correct.\n"
   ]
  },
  {
   "cell_type": "markdown",
   "metadata": {},
   "source": [
    "# Q4"
   ]
  },
  {
   "cell_type": "code",
   "execution_count": 13,
   "metadata": {},
   "outputs": [
    {
     "name": "stdout",
     "output_type": "stream",
     "text": [
      "k=7: \n",
      "Sum of squares of singular values = 1033.9950720351148\n",
      "Frobenius norm of error = 1033.9950720351274\n",
      "\n",
      "k=6: \n",
      "Sum of squares of singular values = 3082.9934969993487\n",
      "Frobenius norm of error = 3082.9934969993765\n",
      "\n",
      "k=5: \n",
      "Sum of squares of singular values = 20700.091520013928\n",
      "Frobenius norm of error = 20700.091520013935\n",
      "\n",
      "k=4: \n",
      "Sum of squares of singular values = 47326.22619619667\n",
      "Frobenius norm of error = 47326.22619619669\n",
      "\n",
      "k=3: \n",
      "Sum of squares of singular values = 93244.03322578664\n",
      "Frobenius norm of error = 93244.03322578661\n",
      "\n",
      "k=2: \n",
      "Sum of squares of singular values = 159549.95001689155\n",
      "Frobenius norm of error = 159549.9500168915\n",
      "\n",
      "k=1: \n",
      "Sum of squares of singular values = 242318.0893724801\n",
      "Frobenius norm of error = 242318.08937247997\n",
      "\n",
      "k=0: \n",
      "Sum of squares of singular values = 1609692.0000000014\n",
      "Frobenius norm of error = 1609692.0\n",
      "\n"
     ]
    },
    {
     "data": {
      "image/png": "[encoded data removed]",
      "text/plain": [
       "<Figure size 432x288 with 1 Axes>"
      ]
     },
     "metadata": {
      "needs_background": "light"
     },
     "output_type": "display_data"
    }
   ],
   "source": [
    "# Reconstruct the matrix g such that only the first k eigenvalues are taken.\n",
    "def SVD_reconstruct(g, k):\n",
    "    U,S,V = SVD(g)\n",
    "    S_prime = S.copy()\n",
    "    # To form the reconstructed image we make the singular values that aren't required, zero.\n",
    "    for i in range(k,len(S)):\n",
    "        S_prime[i,i] = 0.\n",
    "    \n",
    "    # Compute the reconstructed image\n",
    "    g_k = U@S_prime@V.T\n",
    "    \n",
    "    # Evaluate the frobenius norm of the difference between the original matrix \n",
    "    # and the reconstructed matrix\n",
    "    error = np.sum((g-g_k)**2)\n",
    "\n",
    "    # Evaluate the sum of squares of the singular values that have been \"discarded\" i.e. not taken into account.\n",
    "    sig_sq_sum = np.sum(((np.diag(S))[k:])**2)\n",
    "\n",
    "    # Return the reconstructed image and the error along with \n",
    "    # the estimated error from the singular values\n",
    "    return g_k, error, sig_sq_sum\n",
    "\n",
    "reconstructed_images = []\n",
    "errs = []\n",
    "sig_sums = []\n",
    "\n",
    "# Vary k from 7 to 0 with k=7 meaning that only the lowest eigenvalue is discarded and \n",
    "# k=0 meaning that all eigenvalues and discarded. Eigenvalues are discarded from lowest to highest.\n",
    "for i in range(7,-1,-1):\n",
    "    g_k, err, sigma_sq_sum = SVD_reconstruct(g = g_mat, k = i)\n",
    "    reconstructed_images.append(g_k)\n",
    "    print(f\"k={i}: \\nSum of squares of singular values = {sigma_sq_sum}\\nFrobenius norm of error = {err}\\n\")\n",
    "    sig_sums.append(sigma_sq_sum)\n",
    "    errs.append(err)\n",
    "\n",
    "# Plotting the variation of frobenius error with k.\n",
    "# Also showing theoretical estimate of error varying with k\n",
    "plt.plot(np.arange(7,-1,-1), errs, label = 'Frobenius norm of error')\n",
    "plt.scatter(np.arange(7,-1,-1), sig_sums, c='orange', label = \"Sum of squares of singular values\")\n",
    "plt.title(\"Plot of Squared error vs k\")\n",
    "plt.xlabel(\"k : number of non-zero eigenvalues considered (i.e. non-zero)\")\n",
    "plt.ylabel(\"Error\")\n",
    "plt.legend()\n",
    "plt.show()\n"
   ]
  },
  {
   "cell_type": "markdown",
   "metadata": {},
   "source": [
    "As the number of eigenvalues considered increases, the error decrease as is evident from the graph.\n",
    "\n",
    "Let us now look that what the reconstructed images look like."
   ]
  },
  {
   "cell_type": "code",
   "execution_count": 14,
   "metadata": {},
   "outputs": [
    {
     "data": {
      "text/plain": [
       "<matplotlib.image.AxesImage at 0x7f5de12f4ac8>"
      ]
     },
     "execution_count": 14,
     "metadata": {},
     "output_type": "execute_result"
    },
    {
     "data": {
      "image/png": "[encoded data removed]",
      "text/plain": [
       "<Figure size 432x288 with 1 Axes>"
      ]
     },
     "metadata": {
      "needs_background": "light"
     },
     "output_type": "display_data"
    }
   ],
   "source": [
    "# Show the original image i.e. k=8\n",
    "plt.imshow(g_mat, cmap='gray')"
   ]
  },
  {
   "cell_type": "code",
   "execution_count": 15,
   "metadata": {},
   "outputs": [
    {
     "data": {
      "image/png": "[encoded data removed]",
      "text/plain": [
       "<Figure size 576x1080 with 8 Axes>"
      ]
     },
     "metadata": {
      "needs_background": "light"
     },
     "output_type": "display_data"
    }
   ],
   "source": [
    "# Plot the different reconstructed images with the corresponding values of k.\n",
    "f, axs = plt.subplots(4, 2, figsize = (8,15))\n",
    "\n",
    "for i in range(4):\n",
    "    for j in range(2):\n",
    "        axs[i,j].imshow(reconstructed_images[2*i+j], cmap = \"gray\")\n",
    "        axs[i,j].set_title(f\"k = {7-(i*2+j)}\")\n",
    "plt.suptitle(\"Reconstructed Images\")\n",
    "plt.show()\n"
   ]
  },
  {
   "cell_type": "markdown",
   "metadata": {},
   "source": [
    "The above are the reconstructed images with the given values of \"k\""
   ]
  }
 ],
 "metadata": {
  "interpreter": {
   "hash": "31f2aee4e71d21fbe5cf8b01ff0e069b9275f58929596ceb00d14d90e3e16cd6"
  },
  "kernelspec": {
   "display_name": "Python 3.6.9 64-bit",
   "name": "python3"
  },
  "language_info": {
   "codemirror_mode": {
    "name": "ipython",
    "version": 3
   },
   "file_extension": ".py",
   "mimetype": "text/x-python",
   "name": "python",
   "nbconvert_exporter": "python",
   "pygments_lexer": "ipython3",
   "version": "3.6.9"
  },
  "orig_nbformat": 4
 },
 "nbformat": 4,
 "nbformat_minor": 2
}